{
 "cells": [
  {
   "cell_type": "markdown",
   "id": "596d7fb3",
   "metadata": {},
   "source": [
    "## Origignal code for FSRO algorithm on speed reducer problem \n"
   ]
  },
  {
   "cell_type": "code",
   "execution_count": 2,
   "id": "59fd1d9c",
   "metadata": {},
   "outputs": [],
   "source": [
    "import numpy as np\n",
    "import matplotlib.pyplot as plt\n"
   ]
  },
  {
   "cell_type": "code",
   "execution_count": 3,
   "id": "0471753a",
   "metadata": {},
   "outputs": [],
   "source": [
    "def objective(x):\n",
    "    x1, x2, x3, x4, x5, x6, x7 = x\n",
    "    term1 = 0.7854 * x1 * x2**2 * (3.3333 * x3**2 + 14.9334 * x3 - 43.0934)\n",
    "    term2 = -1.508 * x1 * (x6**2 + x7**2)\n",
    "    term3 = 7.4777 * (x6**3 + x7**3)\n",
    "    term4 = 0.7854 * (x4 * x6**2 + x5 * x7**2)\n",
    "    return term1 + term2 + term3 + term4"
   ]
  },
  {
   "cell_type": "code",
   "execution_count": 4,
   "id": "8edebb1a",
   "metadata": {},
   "outputs": [],
   "source": [
    "def constraints(x):\n",
    "    x1, x2, x3, x4, x5, x6, x7 = x\n",
    "    g = [0]*11\n",
    "    g[0] = 1 - (27 / (x1 * x2**2 * x3))\n",
    "    g[1] = 1 - (397.5 / (x1 * x2**2 * x3**2))\n",
    "    g[2] = (x4 / 1.5) - 1\n",
    "    g[3] = (x5 / 1.5) - 1\n",
    "    g[4] = (1.93 * x4**3 / (x2 * x3**2)) - 1\n",
    "    g[5] = (1.93 * x5**3 / (x2 * x3**2)) - 1\n",
    "    g[6] = 1 - (1100 / ((x6**2) * x4))\n",
    "    g[7] = 1 - (850 / ((x7**2) * x5))\n",
    "    g[8] = x6 - 3\n",
    "    g[9] = x7 - 3\n",
    "    g[10] = 0.32 - x2\n",
    "    return g"
   ]
  },
  {
   "cell_type": "code",
   "execution_count": 5,
   "id": "40b5d059",
   "metadata": {},
   "outputs": [],
   "source": [
    "\n",
    "def is_feasible(x):\n",
    "    return all([g <= 0 for g in constraints(x)])\n",
    "\n",
    "# === FSRO Parameters ===\n",
    "POP_SIZE = 40\n",
    "DIM = 7\n",
    "MAX_GEN = 1000\n",
    "X_MIN = [2.6, 0.7, 17, 7.3, 7.8, 2.9, 5.0]\n",
    "X_MAX = [3.6, 0.8, 28, 8.3, 8.3, 3.9, 5.5]\n",
    "INTEGER_IDX = [2]\n",
    "w1, d1, w2, d2 = 0.75, 40, 1, 20\n",
    "DECISION_DIST = 6\n",
    "MAX_DIST = 80"
   ]
  },
  {
   "cell_type": "code",
   "execution_count": 6,
   "id": "803e8c0e",
   "metadata": {},
   "outputs": [],
   "source": [
    "def initialize_population():\n",
    "    frogs = np.random.uniform(0, 1, (POP_SIZE//2, DIM))\n",
    "    snakes = np.random.uniform(0, 1, (POP_SIZE//2, DIM))\n",
    "    return decode(frogs), decode(snakes)\n",
    "\n",
    "def decode(pop):\n",
    "    decoded = np.array(pop)\n",
    "    for i in range(DIM):\n",
    "        decoded[:, i] = X_MIN[i] + pop[:, i] * (X_MAX[i] - X_MIN[i])\n",
    "    for idx in INTEGER_IDX:\n",
    "        decoded[:, idx] = np.round(decoded[:, idx])\n",
    "    return decoded\n",
    "\n",
    "def normalize(pop):\n",
    "    norm = np.zeros_like(pop)\n",
    "    for i in range(DIM):\n",
    "        norm[:, i] = (pop[:, i] - X_MIN[i]) / (X_MAX[i] - X_MIN[i])\n",
    "    return norm"
   ]
  },
  {
   "cell_type": "code",
   "execution_count": 7,
   "id": "78b8b70d",
   "metadata": {},
   "outputs": [],
   "source": [
    "def uniform_crossover(p1, p2):\n",
    "    mask = np.random.rand(DIM) > 0.5\n",
    "    return np.where(mask, p1, p2)\n",
    "\n",
    "def two_point_crossover(p1, p2):\n",
    "    c1, c2 = sorted(np.random.choice(DIM, 2, replace=False))\n",
    "    child = p1.copy()\n",
    "    child[c1:c2] = p2[c1:c2]\n",
    "    return child\n",
    "\n",
    "def capture(frog, snake):\n",
    "    matches = np.sum(np.isclose(frog, snake, atol=1e-3))\n",
    "    dist = MAX_DIST * (DIM - matches) / DIM\n",
    "    order = 'first' if dist <= DECISION_DIST else 'second'\n",
    "    avoidance = (w1 * dist + d1) / 100 if order == 'first' else (w2 * dist + d2) / 100\n",
    "    if np.random.rand() > avoidance:\n",
    "        idx = np.random.randint(DIM)\n",
    "        frog[idx] += np.random.uniform(-0.1, 0.1)\n",
    "        frog[idx] = np.clip(frog[idx], X_MIN[idx], X_MAX[idx])\n",
    "        if idx in INTEGER_IDX:\n",
    "            frog[idx] = round(frog[idx])\n",
    "    return frog"
   ]
  },
  {
   "cell_type": "code",
   "execution_count": 8,
   "id": "c5122495",
   "metadata": {},
   "outputs": [
    {
     "data": {
      "image/png": "[encoded data removed]",
      "text/plain": [
       "<Figure size 640x480 with 1 Axes>"
      ]
     },
     "metadata": {},
     "output_type": "display_data"
    },
    {
     "name": "stdout",
     "output_type": "stream",
     "text": [
      "10000000000.0 [ 2.64845025  0.76938981 26.          7.56367959  7.93033139  3.21994526\n",
      "  5.47462032]\n"
     ]
    }
   ],
   "source": [
    "frogs, snakes = initialize_population()\n",
    "best_fitness_curve = []\n",
    "global_best = float('inf')\n",
    "global_best_x = None\n",
    "\n",
    "for gen in range(MAX_GEN):\n",
    "    # Crossover\n",
    "    for i in range(len(frogs)):\n",
    "        partner = frogs[np.random.randint(len(frogs))]\n",
    "        frogs[i] = uniform_crossover(frogs[i], partner)\n",
    "\n",
    "    for i in range(len(snakes)):\n",
    "        partner = snakes[np.random.randint(len(snakes))]\n",
    "        snakes[i] = two_point_crossover(snakes[i], partner)\n",
    "\n",
    "    # Capture\n",
    "    for i in range(len(frogs)):\n",
    "        predator = snakes[np.random.randint(len(snakes))]\n",
    "        frogs[i] = capture(frogs[i], predator)\n",
    "\n",
    "    # Combine & Evaluate\n",
    "    population = np.vstack((frogs, snakes))\n",
    "    fitnesses = np.array([objective(ind) if is_feasible(ind) else 1e10 for ind in population])\n",
    "    best_idx = np.argmin(fitnesses)\n",
    "\n",
    "    if fitnesses[best_idx] < global_best:\n",
    "        global_best = fitnesses[best_idx]\n",
    "        global_best_x = population[best_idx].copy()\n",
    "\n",
    "    best_fitness_curve.append(global_best)\n",
    "\n",
    "    # Shuffle & normalize for next iteration\n",
    "    norm_pop = normalize(population)\n",
    "    frogs = decode(norm_pop[:POP_SIZE//2])\n",
    "    snakes = decode(norm_pop[POP_SIZE//2:])\n",
    "\n",
    "# === Results ===\n",
    "plt.plot(best_fitness_curve)\n",
    "plt.title(\"FSRO on Speed Reducer Design Problem\")\n",
    "plt.xlabel(\"Iteration\")\n",
    "plt.ylabel(\"Best Fitness\")\n",
    "plt.yscale(\"log\")\n",
    "plt.grid(True)\n",
    "plt.show()\n",
    "\n",
    "print(global_best, global_best_x)\n"
   ]
  },
  {
   "cell_type": "code",
   "execution_count": null,
   "id": "1829ffe1",
   "metadata": {},
   "outputs": [],
   "source": []
  }
 ],
 "metadata": {
  "kernelspec": {
   "display_name": ".venv",
   "language": "python",
   "name": "python3"
  },
  "language_info": {
   "codemirror_mode": {
    "name": "ipython",
    "version": 3
   },
   "file_extension": ".py",
   "mimetype": "text/x-python",
   "name": "python",
   "nbconvert_exporter": "python",
   "pygments_lexer": "ipython3",
   "version": "3.11.9"
  }
 },
 "nbformat": 4,
 "nbformat_minor": 5
}
